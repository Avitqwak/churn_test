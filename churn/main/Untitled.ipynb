{
 "cells": [
  {
   "cell_type": "code",
   "execution_count": 1,
   "id": "charged-garden",
   "metadata": {},
   "outputs": [
    {
     "data": {
      "text/html": [
       "<div>\n",
       "<style scoped>\n",
       "    .dataframe tbody tr th:only-of-type {\n",
       "        vertical-align: middle;\n",
       "    }\n",
       "\n",
       "    .dataframe tbody tr th {\n",
       "        vertical-align: top;\n",
       "    }\n",
       "\n",
       "    .dataframe thead th {\n",
       "        text-align: right;\n",
       "    }\n",
       "</style>\n",
       "<table border=\"1\" class=\"dataframe\">\n",
       "  <thead>\n",
       "    <tr style=\"text-align: right;\">\n",
       "      <th></th>\n",
       "      <th>Churn_Probability</th>\n",
       "    </tr>\n",
       "  </thead>\n",
       "  <tbody>\n",
       "    <tr>\n",
       "      <th>0</th>\n",
       "      <td>0.554657</td>\n",
       "    </tr>\n",
       "  </tbody>\n",
       "</table>\n",
       "</div>"
      ],
      "text/plain": [
       "   Churn_Probability\n",
       "0           0.554657"
      ]
     },
     "execution_count": 1,
     "metadata": {},
     "output_type": "execute_result"
    }
   ],
   "source": [
    "from qwak.inference.clients import RealTimeClient\n",
    "\n",
    "feature_vector = [\n",
    "        {\n",
    "            'User_Id': 166056434,\n",
    "            'State': \"AZ\",\n",
    "            'Account_Length': 140,\n",
    "            'Area_Code': 408,\n",
    "            'Intl_Plan': 0,\n",
    "            'VMail_Plan': 0,\n",
    "            'VMail_Message': 0,\n",
    "            'Day_Mins': 149.8,\n",
    "            'Day_Calls': 134,\n",
    "            'Eve_Mins': 164.4,\n",
    "            'Eve_Calls': 98,\n",
    "            'Night_Mins' : 294.7,\n",
    "            'Night_Calls' : 124,\n",
    "            'Intl_Mins' : 8.1,\n",
    "            'Intl_Calls' : 2,\n",
    "            'CustServ_Calls' : 100,\n",
    "            'Agitation_Level' : 80\n",
    "        }]\n",
    "\n",
    "client = RealTimeClient(model_id=\"real_time_churn_model\")\n",
    "client.predict(feature_vector)"
   ]
  },
  {
   "cell_type": "code",
   "execution_count": null,
   "id": "competent-tiffany",
   "metadata": {},
   "outputs": [],
   "source": []
  }
 ],
 "metadata": {
  "kernelspec": {
   "display_name": "Python 3",
   "language": "python",
   "name": "python3"
  },
  "language_info": {
   "codemirror_mode": {
    "name": "ipython",
    "version": 3
   },
   "file_extension": ".py",
   "mimetype": "text/x-python",
   "name": "python",
   "nbconvert_exporter": "python",
   "pygments_lexer": "ipython3",
   "version": "3.8.8"
  }
 },
 "nbformat": 4,
 "nbformat_minor": 5
}
